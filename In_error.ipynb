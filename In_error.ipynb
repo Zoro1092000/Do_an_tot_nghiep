{
  "nbformat": 4,
  "nbformat_minor": 0,
  "metadata": {
    "colab": {
      "provenance": [],
      "include_colab_link": true
    },
    "kernelspec": {
      "name": "python3",
      "display_name": "Python 3"
    },
    "language_info": {
      "name": "python"
    },
    "accelerator": "GPU"
  },
  "cells": [
    {
      "cell_type": "markdown",
      "metadata": {
        "id": "view-in-github",
        "colab_type": "text"
      },
      "source": [
        "<a href=\"https://colab.research.google.com/github/Zoro1092000/Do_an_tot_nghiep/blob/main/In_error.ipynb\" target=\"_parent\"><img src=\"https://colab.research.google.com/assets/colab-badge.svg\" alt=\"Open In Colab\"/></a>"
      ]
    },
    {
      "cell_type": "markdown",
      "source": [
        "# 1. Pip and Import"
      ],
      "metadata": {
        "id": "5qIT_J6Y6t0F"
      }
    },
    {
      "cell_type": "code",
      "execution_count": 1,
      "metadata": {
        "colab": {
          "base_uri": "https://localhost:8080/"
        },
        "id": "T7NXGh456ole",
        "outputId": "0a8c2070-78db-4501-91ce-549c66e30b19"
      },
      "outputs": [
        {
          "output_type": "stream",
          "name": "stdout",
          "text": [
            "Looking in indexes: https://pypi.org/simple, https://us-python.pkg.dev/colab-wheels/public/simple/\n",
            "Requirement already satisfied: torch-geometric==1.4.3 in /usr/local/lib/python3.7/dist-packages (1.4.3)\n",
            "Requirement already satisfied: requests in /usr/local/lib/python3.7/dist-packages (from torch-geometric==1.4.3) (2.23.0)\n",
            "Requirement already satisfied: scikit-learn in /usr/local/lib/python3.7/dist-packages (from torch-geometric==1.4.3) (1.0.2)\n",
            "Requirement already satisfied: numpy in /usr/local/lib/python3.7/dist-packages (from torch-geometric==1.4.3) (1.21.6)\n",
            "Requirement already satisfied: numba in /usr/local/lib/python3.7/dist-packages (from torch-geometric==1.4.3) (0.56.3)\n",
            "Requirement already satisfied: rdflib in /usr/local/lib/python3.7/dist-packages (from torch-geometric==1.4.3) (6.2.0)\n",
            "Requirement already satisfied: h5py in /usr/local/lib/python3.7/dist-packages (from torch-geometric==1.4.3) (3.1.0)\n",
            "Requirement already satisfied: pandas in /usr/local/lib/python3.7/dist-packages (from torch-geometric==1.4.3) (1.3.5)\n",
            "Requirement already satisfied: scikit-image in /usr/local/lib/python3.7/dist-packages (from torch-geometric==1.4.3) (0.18.3)\n",
            "Requirement already satisfied: torch in /usr/local/lib/python3.7/dist-packages (from torch-geometric==1.4.3) (1.12.1+cu113)\n",
            "Requirement already satisfied: scipy in /usr/local/lib/python3.7/dist-packages (from torch-geometric==1.4.3) (1.7.3)\n",
            "Requirement already satisfied: plyfile in /usr/local/lib/python3.7/dist-packages (from torch-geometric==1.4.3) (0.7.4)\n",
            "Requirement already satisfied: googledrivedownloader in /usr/local/lib/python3.7/dist-packages (from torch-geometric==1.4.3) (0.4)\n",
            "Requirement already satisfied: networkx in /usr/local/lib/python3.7/dist-packages (from torch-geometric==1.4.3) (2.6.3)\n",
            "Requirement already satisfied: cached-property in /usr/local/lib/python3.7/dist-packages (from h5py->torch-geometric==1.4.3) (1.5.2)\n",
            "Requirement already satisfied: llvmlite<0.40,>=0.39.0dev0 in /usr/local/lib/python3.7/dist-packages (from numba->torch-geometric==1.4.3) (0.39.1)\n",
            "Requirement already satisfied: setuptools in /usr/local/lib/python3.7/dist-packages (from numba->torch-geometric==1.4.3) (57.4.0)\n",
            "Requirement already satisfied: importlib-metadata in /usr/local/lib/python3.7/dist-packages (from numba->torch-geometric==1.4.3) (4.13.0)\n",
            "Requirement already satisfied: zipp>=0.5 in /usr/local/lib/python3.7/dist-packages (from importlib-metadata->numba->torch-geometric==1.4.3) (3.9.0)\n",
            "Requirement already satisfied: typing-extensions>=3.6.4 in /usr/local/lib/python3.7/dist-packages (from importlib-metadata->numba->torch-geometric==1.4.3) (4.1.1)\n",
            "Requirement already satisfied: python-dateutil>=2.7.3 in /usr/local/lib/python3.7/dist-packages (from pandas->torch-geometric==1.4.3) (2.8.2)\n",
            "Requirement already satisfied: pytz>=2017.3 in /usr/local/lib/python3.7/dist-packages (from pandas->torch-geometric==1.4.3) (2022.5)\n",
            "Requirement already satisfied: six>=1.5 in /usr/local/lib/python3.7/dist-packages (from python-dateutil>=2.7.3->pandas->torch-geometric==1.4.3) (1.15.0)\n",
            "Requirement already satisfied: pyparsing in /usr/local/lib/python3.7/dist-packages (from rdflib->torch-geometric==1.4.3) (3.0.9)\n",
            "Requirement already satisfied: isodate in /usr/local/lib/python3.7/dist-packages (from rdflib->torch-geometric==1.4.3) (0.6.1)\n",
            "Requirement already satisfied: idna<3,>=2.5 in /usr/local/lib/python3.7/dist-packages (from requests->torch-geometric==1.4.3) (2.10)\n",
            "Requirement already satisfied: urllib3!=1.25.0,!=1.25.1,<1.26,>=1.21.1 in /usr/local/lib/python3.7/dist-packages (from requests->torch-geometric==1.4.3) (1.24.3)\n",
            "Requirement already satisfied: certifi>=2017.4.17 in /usr/local/lib/python3.7/dist-packages (from requests->torch-geometric==1.4.3) (2022.9.24)\n",
            "Requirement already satisfied: chardet<4,>=3.0.2 in /usr/local/lib/python3.7/dist-packages (from requests->torch-geometric==1.4.3) (3.0.4)\n",
            "Requirement already satisfied: imageio>=2.3.0 in /usr/local/lib/python3.7/dist-packages (from scikit-image->torch-geometric==1.4.3) (2.9.0)\n",
            "Requirement already satisfied: PyWavelets>=1.1.1 in /usr/local/lib/python3.7/dist-packages (from scikit-image->torch-geometric==1.4.3) (1.3.0)\n",
            "Requirement already satisfied: matplotlib!=3.0.0,>=2.0.0 in /usr/local/lib/python3.7/dist-packages (from scikit-image->torch-geometric==1.4.3) (3.2.2)\n",
            "Requirement already satisfied: pillow!=7.1.0,!=7.1.1,>=4.3.0 in /usr/local/lib/python3.7/dist-packages (from scikit-image->torch-geometric==1.4.3) (7.1.2)\n",
            "Requirement already satisfied: tifffile>=2019.7.26 in /usr/local/lib/python3.7/dist-packages (from scikit-image->torch-geometric==1.4.3) (2021.11.2)\n",
            "Requirement already satisfied: cycler>=0.10 in /usr/local/lib/python3.7/dist-packages (from matplotlib!=3.0.0,>=2.0.0->scikit-image->torch-geometric==1.4.3) (0.11.0)\n",
            "Requirement already satisfied: kiwisolver>=1.0.1 in /usr/local/lib/python3.7/dist-packages (from matplotlib!=3.0.0,>=2.0.0->scikit-image->torch-geometric==1.4.3) (1.4.4)\n",
            "Requirement already satisfied: threadpoolctl>=2.0.0 in /usr/local/lib/python3.7/dist-packages (from scikit-learn->torch-geometric==1.4.3) (3.1.0)\n",
            "Requirement already satisfied: joblib>=0.11 in /usr/local/lib/python3.7/dist-packages (from scikit-learn->torch-geometric==1.4.3) (1.2.0)\n",
            "Looking in indexes: https://pypi.org/simple, https://us-python.pkg.dev/colab-wheels/public/simple/\n",
            "Looking in links: https://data.pyg.org/whl/torch-1.12.1+cu113.html\n",
            "Requirement already satisfied: torch-cluster in /usr/local/lib/python3.7/dist-packages (1.6.0)\n",
            "Looking in indexes: https://pypi.org/simple, https://us-python.pkg.dev/colab-wheels/public/simple/\n",
            "Requirement already satisfied: deepdish==0.3.5 in /usr/local/lib/python3.7/dist-packages (0.3.5)\n",
            "Requirement already satisfied: tables in /usr/local/lib/python3.7/dist-packages (from deepdish==0.3.5) (3.7.0)\n",
            "Requirement already satisfied: scipy in /usr/local/lib/python3.7/dist-packages (from deepdish==0.3.5) (1.7.3)\n",
            "Requirement already satisfied: numpy in /usr/local/lib/python3.7/dist-packages (from deepdish==0.3.5) (1.21.6)\n",
            "Requirement already satisfied: packaging in /usr/local/lib/python3.7/dist-packages (from tables->deepdish==0.3.5) (21.3)\n",
            "Requirement already satisfied: numexpr>=2.6.2 in /usr/local/lib/python3.7/dist-packages (from tables->deepdish==0.3.5) (2.8.3)\n",
            "Requirement already satisfied: pyparsing!=3.0.5,>=2.0.2 in /usr/local/lib/python3.7/dist-packages (from packaging->tables->deepdish==0.3.5) (3.0.9)\n"
          ]
        }
      ],
      "source": [
        "import os\n",
        "import os.path as osp\n",
        "import torch\n",
        "import sys\n",
        "\n",
        "os.environ['TORCH'] = torch.__version__\n",
        "\n",
        "!pip install -q torch-scatter -f https://data.pyg.org/whl/torch-${TORCH}.html\n",
        "!pip install -q torch-sparse -f https://data.pyg.org/whl/torch-${TORCH}.html\n",
        "!pip install torch-geometric==1.4.3\n",
        "!pip install torch-cluster -f https://data.pyg.org/whl/torch-${TORCH}.html\n",
        "!pip install deepdish==0.3.5\n",
        "\n",
        "import torch.nn as nn\n",
        "from torch.nn import Parameter\n",
        "from torch_geometric.utils import scatter_\n",
        "from torch_geometric.nn.inits import glorot, zeros\n",
        "from torch_scatter import scatter_add\n",
        "from torch.utils.data import DataLoader, Dataset\n",
        "\n",
        "\n",
        "from itertools import chain\n",
        "import pickle\n",
        "import h5py\n",
        "import deepdish as dd\n",
        "import numpy as np\n",
        "from tqdm import tqdm\n",
        "import inspect\n",
        "import time\n",
        "import math\n",
        "import random"
      ]
    },
    {
      "cell_type": "markdown",
      "source": [
        "# 2. Data"
      ],
      "metadata": {
        "id": "7drjfCQ06z0v"
      }
    },
    {
      "cell_type": "code",
      "source": [
        "# Data utils\n",
        "def h5group_to_dict(h5group):\n",
        "    group_dict = {k: v[()] for k, v in chain(h5group.items(), h5group.attrs.items())}\n",
        "    return group_dict\n",
        "\n",
        "def sub_dict(full_dict, *keys, to_tensor):\n",
        "    return {k: torch.tensor(full_dict[k]) if to_tensor else full_dict[k] for k in keys if k in full_dict}\n",
        "\n",
        "def build_graph_from_dict_pyg(graph_dict, to_tensor=True):\n",
        "    from torch_geometric.data import Data\n",
        "\n",
        "    g = Data(**sub_dict(graph_dict, 'edge_index', 'x', 'y', 'edge_attr', 'edge_y', to_tensor=to_tensor))\n",
        "    return g\n",
        "\n",
        "# Data loader\n",
        "class GraphDataLoader(DataLoader):\n",
        "    def __init__(self, dataset, batch_size=128, shuffle=False, num_workers=0):\n",
        "\n",
        "        def collate_graph(graph_obj_list):\n",
        "            from torch_geometric.data import Batch\n",
        "            batch = Batch.from_data_list(graph_obj_list)\n",
        "            return batch\n",
        "\n",
        "        super().__init__(\n",
        "            dataset,\n",
        "            batch_size=batch_size,\n",
        "            shuffle=shuffle,\n",
        "            collate_fn=collate_graph,\n",
        "            num_workers=num_workers)\n",
        "\n",
        "# BotnetDataset\n",
        "class BotnetDataset(Dataset):\n",
        "\n",
        "    def __init__(self, name='chord', root='data/botnet', split='train', graph_format='pyg', split_idx=None, add_nfeat_ones=True,\n",
        "                 in_memory=True):\n",
        "        super().__init__()\n",
        "        assert name in ['chord', 'debru', 'kadem', 'leet', 'c2', 'p2p']\n",
        "        assert split in ['train', 'val', 'test']\n",
        "\n",
        "        if isinstance(root, str):\n",
        "            root = osp.expanduser(osp.normpath(root))\n",
        "\n",
        "        self.name = name\n",
        "        self.root = root\n",
        "        self.split = split\n",
        "        self.split_idx = split_idx\n",
        "        self.add_nfeat_ones = add_nfeat_ones\n",
        "\n",
        "        self._graph_format = graph_format\n",
        "        if split == 'train':\n",
        "            self.path = self.processed_paths[0]\n",
        "            self.num_graphs = 768\n",
        "        elif split == 'val':\n",
        "            self.path = self.processed_paths[1]\n",
        "            self.num_graphs = 96\n",
        "        elif split == 'test':\n",
        "            self.path = self.processed_paths[2]\n",
        "            self.num_graphs = 96\n",
        "\n",
        "        # in_memory = False\n",
        "        # self.data = h5py.File(self.path, 'r')\n",
        "        self.data = None    # defer opening file in each process to make multiprocessing work\n",
        "        self.data_type = 'file'\n",
        "            \n",
        "    @property\n",
        "    def processed_dir(self):\n",
        "        return osp.join(self.root, 'processed')\n",
        "\n",
        "    @property\n",
        "    def processed_file_names(self):\n",
        "        return [self.name + '_' + s + '.hdf5' for s in ('train', 'val', 'test')]\n",
        "\n",
        "    @property\n",
        "    def processed_paths(self):\n",
        "        return [osp.join(self.processed_dir, f) for f in self.processed_file_names]\n",
        "\n",
        "    def __len__(self):\n",
        "        return self.num_graphs\n",
        "\n",
        "    def __getitem__(self, index):\n",
        "        if self.data_type == 'dict':\n",
        "            graph_dict = self.data[str(index)]\n",
        "        elif self.data_type == 'file':\n",
        "            if self.data is None:\n",
        "                # only open once in each process\n",
        "                self.data = h5py.File(self.path, 'r')\n",
        "            graph_dict = h5group_to_dict(self.data[str(index)])\n",
        "        else:\n",
        "            raise ValueError\n",
        "\n",
        "        # graph_format == 'pyg':\n",
        "        return build_graph_from_dict_pyg(graph_dict)\n",
        "\n",
        "\n",
        "    def __iter__(self):\n",
        "        for i in range(self.num_graphs):\n",
        "            yield self[i]\n",
        "\n",
        "    def __repr__(self):\n",
        "        return f'{self.__class__.__name__}(topology: {self.name} | split: {self.split} | ' \\\n",
        "               f'#graphs: {len(self)} | graph format: {self.graph_format})'"
      ],
      "metadata": {
        "id": "mRN-lL_H6ymv"
      },
      "execution_count": 2,
      "outputs": []
    },
    {
      "cell_type": "markdown",
      "source": [
        "# 3. Measure Performance."
      ],
      "metadata": {
        "id": "tEr1eL2b66Xl"
      }
    },
    {
      "cell_type": "code",
      "source": [
        "def f1(target, pred, label):\n",
        "    # F1 = 2 * (precision * recall) / (precision + recall)\n",
        "    tp = np.sum((target==label) & (pred==label))\n",
        "    fp = np.sum((target!=label) & (pred==label))\n",
        "    fn = np.sum((pred!=label) & (target==label))\n",
        "    \n",
        "    if tp+fp==0 or tp+fn==0:\n",
        "      return np.nan\n",
        "\n",
        "    precision = tp/(tp+fp)\n",
        "    recall = tp/(tp+fn)\n",
        "    \n",
        "    if precision+recall==0:\n",
        "      return np.nan\n",
        "      \n",
        "    f1 = 2 * (precision * recall) / (precision + recall)\n",
        "    return f1\n",
        "\n",
        "def f1_macro(pred, target):\n",
        "    return np.mean([f1(target, pred, label) for label in range(0, 2)])\n",
        "\n",
        "\n",
        "def accuracy(pred, target):\n",
        "    return (pred == target).sum().item() / len(target)\n",
        "\n",
        "\n",
        "def true_positive(pred, target):\n",
        "    return (target[pred == 1] == 1).sum().item()\n",
        "\n",
        "\n",
        "def false_positive(pred, target):\n",
        "    return (target[pred == 1] == 0).sum().item()\n",
        "\n",
        "\n",
        "def true_negative(pred, target):\n",
        "    return (target[pred == 0] == 0).sum().item()\n",
        "\n",
        "\n",
        "def false_negative(pred, target):\n",
        "    return (target[pred == 0] == 1).sum().item()\n",
        "\n",
        "\n",
        "def recall(pred, target):\n",
        "    try:\n",
        "        return true_positive(pred, target) / (target == 1).sum().item()\n",
        "    except:  # divide by zero\n",
        "        return -1\n",
        "\n",
        "\n",
        "def precision(pred, target):\n",
        "    try:\n",
        "        prec = true_positive(pred, target) / (pred == 1).sum().item()\n",
        "        return prec\n",
        "    except:  # divide by zero\n",
        "        return -1\n",
        "\n",
        "\n",
        "def f1_score(pred, target):\n",
        "    prec = precision(pred, target)\n",
        "    rec = recall(pred, target)\n",
        "    try:\n",
        "        return 2 * (prec * rec) / (prec + rec)\n",
        "    except:\n",
        "        return 0\n",
        "\n",
        "\n",
        "def false_positive_rate(pred, target):\n",
        "    try:\n",
        "        return false_positive(pred, target) / (target == 0).sum().item()\n",
        "    except:  # divide by zero\n",
        "        return -1\n",
        "\n",
        "\n",
        "def false_negative_rate(pred, target):\n",
        "    try:\n",
        "        return false_negative(pred, target) / (target == 1).sum().item()\n",
        "    except:  # divide by zero\n",
        "        return -1"
      ],
      "metadata": {
        "id": "iFgPbYq_7Buy"
      },
      "execution_count": 3,
      "outputs": []
    },
    {
      "cell_type": "code",
      "source": [
        "list_fn = []"
      ],
      "metadata": {
        "id": "H_rrTXrhjwuq"
      },
      "execution_count": 4,
      "outputs": []
    },
    {
      "cell_type": "code",
      "source": [
        "def eval_metrics(target, pred_prob, threshold=0.5):\n",
        "    if isinstance(target, torch.Tensor):\n",
        "        target = target.cpu().numpy()\n",
        "    if isinstance(pred_prob, torch.Tensor):\n",
        "        pred_prob = pred_prob.cpu().numpy()\n",
        "\n",
        "    pred = (pred_prob >= threshold).astype(int)\n",
        "\n",
        "    for i in range(target.shape[0]):\n",
        "      if target[i] == 1 and pred[i] == 0:\n",
        "        list_fn.append(i)\n",
        "\n",
        "    acc = accuracy(pred, target)\n",
        "    fpr = false_positive_rate(pred, target)\n",
        "    fnr = false_negative_rate(pred, target)\n",
        "    rec = recall(pred, target)\n",
        "    prc = precision(pred, target)\n",
        "    f1 = f1_score(pred, target)\n",
        "    f1macro = f1_macro(pred, target)\n",
        "    result_dict = {'acc': acc, 'fpr': fpr, 'fnr': fnr, 'rec': rec, 'prc': prc, 'f1': f1, 'f1_macro': f1macro}\n",
        "\n",
        "    return result_dict\n",
        "\n",
        "\n",
        "def dict_value_add(dict1, dict2):\n",
        "    result = {key: dict1.get(key, 0) + dict2.get(key, 0)\n",
        "              for key in set(dict1) | set(dict2)}\n",
        "    return result\n",
        "\n",
        "\n",
        "def dict_value_div(dict, n):\n",
        "    result = {key: value / n for key, value in dict.items()}\n",
        "    return result\n",
        "\n",
        "\n",
        "def eval_predictor(dataset, predictor):\n",
        "    result_dict_avg = {}\n",
        "    loss_avg = 0\n",
        "\n",
        "    step = 0\n",
        "    for data in dataset:\n",
        "        # prediction\n",
        "        try:\n",
        "            pred_prob, loss = predictor(data)\n",
        "            loss_avg += loss\n",
        "        except ValueError:  # if \"too many values to unpack\"\n",
        "            pred_prob = predictor(data)\n",
        "\n",
        "        # get the ground truth target\n",
        "        # graph_format == 'pyg':\n",
        "        target = data.y\n",
        "\n",
        "        # compute the evaluation metrics\n",
        "        result_dict = eval_metrics(target, pred_prob)\n",
        "\n",
        "        result_dict_avg = dict_value_add(result_dict_avg, result_dict)\n",
        "        # step = step + 1\n",
        "        # if step == 10:\n",
        "        #   break\n",
        "        #break\n",
        "\n",
        "    # average the metrics across all graphs in the dataset as final results\n",
        "    result_dict_avg = dict_value_div(result_dict_avg, len(dataset))\n",
        "    loss_avg = loss_avg / len(dataset)  \n",
        "\n",
        "    return result_dict_avg, loss_avg\n",
        "\n",
        "class PygModelPredictor:\n",
        "    def __init__(self, model, loss_fcn=torch.nn.CrossEntropyLoss()):\n",
        "        self.model = model\n",
        "        self.loss_fcn = loss_fcn\n",
        "        self.device = next(model.parameters()).device\n",
        "\n",
        "    def __call__(self, data):\n",
        "        self.model.eval()\n",
        "        data = data.to(self.device)\n",
        "        with torch.no_grad():\n",
        "            # custom the below line to adjust to your model's input format for forward pass\n",
        "            out = self.model(data.x, data.edge_index)\n",
        "            loss = self.loss_fcn(out, data.y.long())\n",
        "            pred_prob = torch.softmax(out, dim=1)[:, 1]\n",
        "        return pred_prob, loss.float()"
      ],
      "metadata": {
        "id": "aGwasVEj7H1i"
      },
      "execution_count": 5,
      "outputs": []
    },
    {
      "cell_type": "markdown",
      "source": [
        "# 4. Model"
      ],
      "metadata": {
        "id": "n1770kCk7KXX"
      }
    },
    {
      "cell_type": "code",
      "source": [
        "import torch.nn as nn\n",
        "\n",
        "class GINModel(nn.Module):\n",
        "    def __init__(self, dim_input_feature, dim_hidden_feature, num_layers, num_classes, non_linear='relu', dropout=0.0):\n",
        "        super().__init__()\n",
        "\n",
        "        self.dim_input_feature = dim_input_feature\n",
        "        self.dim_hidden_feature = dim_hidden_feature\n",
        "\n",
        "        self.num_layers = num_layers\n",
        "        self.num_classes = num_classes\n",
        "        \n",
        "        from torch.nn import Linear, Sequential, BatchNorm1d, ReLU, Dropout\n",
        "        from torch_geometric.nn import GINConv\n",
        "        \n",
        "        self.gin_net = nn.ModuleList()\n",
        "        for i in range(self.num_layers):\n",
        "          if i == 0:\n",
        "            self.gin_net.append(\n",
        "                GINConv(\n",
        "                  Sequential(Linear(self.dim_input_feature, self.dim_hidden_feature),\n",
        "                             BatchNorm1d(self.dim_hidden_feature), ReLU(),\n",
        "                             Linear(self.dim_hidden_feature, self.dim_hidden_feature), ReLU()), train_eps = True))\n",
        "          else:\n",
        "            self.gin_net.append(\n",
        "                GINConv(\n",
        "                  Sequential(Linear(self.dim_hidden_feature, self.dim_hidden_feature),\n",
        "                             BatchNorm1d(self.dim_hidden_feature), ReLU(),\n",
        "                             Linear(self.dim_hidden_feature, self.dim_hidden_feature), ReLU()), train_eps = True)) \n",
        "\n",
        "        self.dropout = nn.Dropout(dropout)\n",
        "\n",
        "        self.residuals = nn.ModuleList()\n",
        "        for i in range(self.num_layers):\n",
        "          if i == 0:\n",
        "            self.residuals.append(nn.Linear(self.dim_input_feature, self.dim_hidden_feature, bias=True))\n",
        "          else:\n",
        "            self.residuals.append(nn.Identity())\n",
        "\n",
        "        self.num_residuals = len(self.residuals)\n",
        "\n",
        "        self.non_linear = activation(non_linear)\n",
        "\n",
        "        # self.final_type == 'proj':\n",
        "        self.final = nn.Linear(self.dim_hidden_feature, num_classes)\n",
        "\n",
        "    def reset_parameters(self):\n",
        "        for net in self.gin_net:\n",
        "            net.reset_parameters()\n",
        "        # self.residual_hop = 1\n",
        "        for net in self.residuals:\n",
        "            net.reset_parameters()\n",
        "        # self.final_type != 'none':\n",
        "        self.final.reset_parameters()\n",
        "\n",
        "    def forward(self, x, edge_index):\n",
        "        xr = None\n",
        "        add_xr_at = -1\n",
        "\n",
        "        for n, net in enumerate(self.gin_net):\n",
        "            # pass to a GIN layer with non-linear activation\n",
        "            xo = net(x, edge_index)\n",
        "            xo = self.dropout(xo)\n",
        "            # deal with residual connections\n",
        "            # self.residual_hop = 1\n",
        "            if n < self.num_residuals:\n",
        "                xr = self.residuals[n](x)\n",
        "                add_xr_at = n\n",
        "            if n == add_xr_at:\n",
        "                xo = self.non_linear(xo + xr)\n",
        "\n",
        "            x = xo\n",
        "        # size of x: (B * N, dim_hidden_feature) -> (B * N, num_classes)\n",
        "        x = self.final(x)\n",
        "\n",
        "        return x"
      ],
      "metadata": {
        "id": "bJ688m1Y7hUY"
      },
      "execution_count": 6,
      "outputs": []
    },
    {
      "cell_type": "markdown",
      "source": [
        "# 5. Load data"
      ],
      "metadata": {
        "id": "BeSBhOow7j8e"
      }
    },
    {
      "cell_type": "code",
      "source": [
        "data_dir = '/content/drive/Shareddrives/botnetdata/P2P'\n",
        "data_name = 'p2p' # 'chord', 'debru', 'kadem', 'leet', 'c2', 'p2p'\n",
        "\n",
        "# ========== load the dataset\n",
        "print('loading dataset...')\n",
        "\n",
        "test_ds = BotnetDataset(name=data_name, root=data_dir, split='test',\n",
        "                        in_memory=True, graph_format='pyg')\n"
      ],
      "metadata": {
        "colab": {
          "base_uri": "https://localhost:8080/"
        },
        "id": "S1cZghIQ8CoX",
        "outputId": "a58d4be2-582d-4e08-d2f9-a328f1277b37"
      },
      "execution_count": 7,
      "outputs": [
        {
          "output_type": "stream",
          "name": "stdout",
          "text": [
            "loading dataset...\n"
          ]
        }
      ]
    },
    {
      "cell_type": "markdown",
      "source": [
        "# 7. Test"
      ],
      "metadata": {
        "id": "NAD-Ky6r-TB_"
      }
    },
    {
      "cell_type": "code",
      "source": [
        "GIN = torch.load(\"/content/saved_models/GIN_25_ 0.9951412038904616.pt\")\n",
        "#print(GIN)"
      ],
      "metadata": {
        "id": "ag8rts_I-XoP"
      },
      "execution_count": 8,
      "outputs": []
    },
    {
      "cell_type": "code",
      "source": [
        "predictorGIN = PygModelPredictor(GIN)"
      ],
      "metadata": {
        "id": "dNaF9f5_-c03"
      },
      "execution_count": 9,
      "outputs": []
    },
    {
      "cell_type": "code",
      "source": [
        "result_dict_avg_GIN, loss_avg_GIN = eval_predictor(test_ds, predictorGIN)\n",
        "print(f'Testing --- loss: {loss_avg_GIN:.5f}')\n",
        "print(' ' * 10 + ', '.join(['{}: {:.5f}'.format(k, v) for k, v in result_dict_avg_GIN.items()]))"
      ],
      "metadata": {
        "colab": {
          "base_uri": "https://localhost:8080/"
        },
        "id": "7QLLwzs8-eWA",
        "outputId": "2543ba47-a924-41bf-ada2-405f8406e1c1"
      },
      "execution_count": 10,
      "outputs": [
        {
          "output_type": "stream",
          "name": "stdout",
          "text": [
            "Testing --- loss: 0.00128\n",
            "          fnr: 0.00376, f1_macro: 0.99764, acc: 0.99981, f1: 0.99538, rec: 0.99624, fpr: 0.00011, prc: 0.99504\n"
          ]
        }
      ]
    },
    {
      "cell_type": "code",
      "source": [
        "print(list_fn)"
      ],
      "metadata": {
        "colab": {
          "base_uri": "https://localhost:8080/"
        },
        "id": "Ou4vtZeskHhR",
        "outputId": "3ec410ac-1165-44ef-d6ee-3e42e84f7e87"
      },
      "execution_count": 11,
      "outputs": [
        {
          "output_type": "stream",
          "name": "stdout",
          "text": [
            "[4548, 142562, 142619, 142686, 140950, 141197, 141241, 141487, 2306, 141796, 142294, 261, 141943, 141982, 141996, 142570, 4064, 144198, 144317, 141923, 17375, 47694, 107902, 120998, 142144, 142295, 29266, 141924, 27740, 140632, 56653, 142592, 142635, 142691, 142844, 142926, 142936, 143065, 140967, 141601, 19633, 136448, 136651, 136767, 3788, 17912, 140835, 17302, 144355, 144356, 141914, 142134, 142283, 141246, 141318, 141410, 579, 842, 2044, 5880, 6883, 7878, 12298, 144463, 144476, 144643, 144649, 144761, 145220, 145307, 141954, 141955, 142024, 142075, 142146, 142153, 142272, 144735, 142263, 142281, 142461, 142909, 138308, 138396, 19228, 138634, 145244, 985, 3824, 5245, 8564, 121122, 144441, 144590, 144717, 144889, 144986, 145179, 144900, 144947, 142837, 6286, 140705, 140721, 140806, 140955, 145481, 113476, 140086, 141999, 142049, 142064, 141489, 141570, 141658, 141795, 141982, 145138, 145182, 145359, 48836, 143391, 143435, 143733, 65, 142117, 142167, 142237, 142294, 141900, 135063, 142693, 142775, 142971, 142188, 142205, 142244, 142322, 142400, 142087, 719, 18221, 144806, 142571, 142647, 142872, 143597, 1807, 143673, 143968, 144802, 144917, 143273, 143278, 143421, 143543, 143545, 143562, 143598, 143723, 143959, 21, 448, 2533, 89583, 142962, 143216, 143237, 143252, 143363, 143675, 139206, 139247, 139384, 139481, 139541, 145103, 145110, 382, 597, 680, 786, 918, 1527, 1608, 1753, 2263, 2797, 2838, 2931, 2962, 3026, 3076, 3149, 3164, 3589, 3744, 3883, 3952, 3958, 4049, 4083, 4163, 4192, 4356, 4487, 4635, 4717, 4971, 5150, 5177, 5337, 5598, 5857, 6756, 7505, 7787, 7931, 8006, 8278, 8433, 8505, 8522, 8817, 8999, 9199, 9264, 9320, 9442, 9581, 9806, 9822, 10141, 10205, 10684, 10694, 10716, 10843, 10913, 10955, 11160, 11165, 11327, 11383, 11618, 11948, 12012, 12329, 12373, 12568, 12659, 12723, 12737, 12799, 12841, 12931, 13047, 13209, 13394, 13637, 13693, 13759, 13762, 14355, 14357, 14734, 14906, 14912, 14917, 15054, 15064, 15421, 15685, 16486, 16631, 16703, 16857, 17085, 17502, 17686, 17749, 17750, 17806, 18255, 18482, 19048, 19226, 19311, 19319, 19898, 20004, 20067, 20414, 20433, 20631, 20861, 20862, 20870, 21345, 21412, 21596, 21694, 21869, 22359, 22361, 22833, 22914, 22987, 23287, 23387, 23455, 23782, 24351, 24816, 24866, 24961, 25038, 25375, 25426, 25429, 25477, 25663, 25810, 25865, 26248, 26281, 26350, 26386, 26538, 27917, 27960, 28299, 28382, 28458, 28729, 29171, 29252, 29381, 29419, 29605, 30035, 30264, 30526, 30598, 30782, 30878, 30994, 31051, 31598, 31632, 32507, 32548, 32582, 32707, 32850, 32955, 33017, 33317, 33368, 33455, 33587, 33683, 33684, 33690, 33807, 33979, 34080, 34421, 34472, 35029, 35216, 35313, 35608, 35904, 35913, 35997, 36505, 36565, 36685, 36976, 37129, 37535, 37603, 37656, 37665, 37688, 37782, 37887, 38065, 38328, 38373, 38788, 38909, 38963, 39346, 39414, 39458, 39565, 39756, 39884, 40139, 40616, 40716, 40806, 40965, 41529, 41715, 42043, 42217, 42264, 42518, 42549, 42626, 43476, 43498, 43726, 44449, 44517, 44533, 44898, 45197, 45260, 45675, 45878, 46186, 46386, 46511, 46521, 46630, 46744, 46882, 46982, 47148, 47199, 47504, 47551, 47653, 47660, 47784, 47960, 48005, 48251, 48348, 48759, 48940, 49031, 49035, 49263, 49581, 49701, 49990, 50019, 50417, 51195, 51270, 51454, 51591, 51822, 51905, 52517, 52608, 52741, 52927, 52951, 53030, 53129, 53855, 53875, 54379, 54417, 54709, 54757, 54802, 54931, 55070, 55131, 55184, 55200, 55410, 55546, 55745, 56115, 56149, 56163, 56410, 56444, 56714, 57034, 57406, 57476, 57540, 57567, 58700, 58921, 58967, 59061, 59195, 59284, 59294, 59647, 59777, 60002, 60396, 60426, 60515, 60836, 61053, 61229, 61446, 62156, 62168, 62236, 62645, 62655, 62753, 62846, 62904, 62908, 62960, 62961, 63387, 63627, 63724, 63911, 64060, 64193, 64231, 64506, 64633, 64685, 64863, 64867, 64940, 65081, 65136, 65217, 65235, 65481, 65676, 65794, 66279, 66401, 66418, 66650, 66694, 66811, 66883, 67015, 67032, 67584, 67629, 67824, 68076, 68123, 68188, 68231, 68460, 68690, 68897, 69143, 69319, 69417, 69777, 69924, 69978, 70204, 70205, 70292, 70628, 70807, 70810, 71333, 71494, 71680, 72259, 72305, 72494, 72748, 72935, 72996, 73456, 73507, 73678, 74070, 74141, 74271, 74272, 74300, 74393, 74570, 74711, 74841, 74916, 74919, 75192, 75284, 75285, 75586, 75841, 76359, 76495, 76513, 76535, 76927, 77102, 77323, 77390, 77439, 77508, 77719, 78130, 78205, 78320, 78582, 78644, 78723, 79341, 79509, 79728, 79817, 79888, 79925, 80138, 80216, 80277, 80402, 80575, 80641, 80888, 81528, 81560, 81661, 81796, 82521, 82567, 82698, 82795, 82860, 82979, 83212, 83270, 83278, 83311, 83433, 83804, 83897, 83940, 83974, 84146, 84164, 84179, 84254, 84316, 84464, 84803, 84900, 84920, 85119, 85391, 85457, 85548, 85578, 85638, 85766, 85807, 86204, 86279, 86344, 86601, 86704, 86938, 87238, 87246, 87731, 87880, 87952, 88005, 88450, 88483, 88810, 88826, 88917, 89059, 89305, 89330, 89339, 89359, 89720, 89728, 90183, 90247, 90325, 90484, 90677, 90983, 91076, 91192, 91230, 91391, 91698, 92251, 92274, 92293, 92322, 92437, 92601, 92990, 93141, 93192, 93276, 93498, 93610, 93811, 93838, 93852, 94148, 94490, 94539, 94819, 94883, 94923, 95192, 95217, 95578, 95885, 95954, 96008, 96081, 96130, 96160, 96238, 96620, 96860, 96996, 97008, 97282, 97677, 97697, 97717, 97726, 97790, 98239, 98301, 98523, 98626, 98880, 98905, 99143, 99232, 99397, 99421, 99494, 99570, 99615, 99967, 100048, 100058, 100064, 100165, 100246, 100432, 100778, 100795, 100802, 101300, 101979, 102053, 102070, 102184, 102325, 102343, 102345, 102730, 102752, 103242, 103263, 103759, 103846, 103962, 104077, 104380, 104413, 104722, 104788, 105105, 105135, 105594, 105858, 105953, 105964, 106183, 106547, 106782, 107421, 108182, 108237, 108403, 108530, 108690, 108698, 109004, 109007, 109052, 109383, 109659, 109689, 109805, 109996, 110156, 110342, 110950, 111254, 111355, 111729, 111773, 112128, 112231, 112313, 112539, 112963, 113349, 113526, 113707, 113712, 113843, 114241, 114306, 114336, 114573, 115070, 115074, 115124, 115132, 115332, 115527, 115757, 115935, 115970, 116258, 116353, 116685, 116692, 116969, 117012, 117023, 117335, 117720, 117811, 118155, 118293, 118498, 118592, 118599, 118845, 118949, 119075, 119186, 119429, 119688, 120009, 120268, 120423, 120717, 120870, 120996, 121047, 121629, 121773, 122555, 122652, 122840, 122952, 123246, 123552, 123711, 123789, 123824, 123888, 124027, 124970, 125166, 125335, 125623, 125725, 126229, 126339, 126358, 126604, 126668, 126884, 127116, 127349, 127609, 127710, 127739, 127778, 128162, 128168, 128399, 128445, 128691, 128769, 128827, 128978, 129430, 129658, 129781, 129841, 129873, 130041, 130296, 130823, 130953, 131118, 131311, 131354, 131473, 131728, 131887, 132028, 132119, 132821, 132944, 133143, 133182, 133211, 133246, 133294, 133496, 134131, 134639, 134650, 134786, 135030, 135445, 135565, 135734, 135938, 136097, 136255, 136294, 136305, 136350, 136511, 136515, 136519, 136886, 137050, 137106, 137345, 137799, 137972, 138247, 138364, 138718, 138752, 138831, 138986, 139093, 139189, 139459, 139781, 139843, 139856, 141125, 141153, 141645, 141687, 141704, 141861, 141913, 141996, 142311, 142384, 142462, 142748, 142830, 142850, 142956, 143086, 143127, 143386, 143418, 143436, 143680, 143150, 143217, 143218, 143286, 145360, 141264, 143387, 5452, 25111, 141288, 141868, 145354, 8959, 140459, 140733, 140833, 140975, 141439, 141485, 1570, 3359, 143806, 143847, 143947, 143962, 144383, 144496, 144629, 30802, 57901, 138839, 139058, 145708, 142333, 142338, 142360, 142400, 142451, 142545, 139148, 145678, 145682, 27343, 92934, 1725, 49338, 137588, 137696, 137709, 417, 88785, 145951, 143461, 143600, 143843, 142680, 142773, 1739, 3094, 11040, 59000, 142528, 142742, 142750, 142766, 142809, 142928, 142953, 142968, 143016, 143137, 147431, 147646, 137884, 138246, 110, 321, 146879, 146892, 147023, 147067, 142503, 142553, 142937, 558, 2737, 145440, 145569, 145616, 145740, 141847, 142168, 143045, 141404, 141612, 141669, 1783, 18168, 59302, 95852, 145374, 145403, 3, 5427, 145579, 145662, 16088, 431, 28474, 34010, 102925, 143657, 141486, 140951, 141173, 14607, 142385, 142405, 142509, 142567, 146188, 146409, 30058, 142847, 142861, 139213, 139347, 139386]\n"
          ]
        }
      ]
    },
    {
      "cell_type": "code",
      "source": [
        "dict_fn = {}"
      ],
      "metadata": {
        "id": "R-8R3NRAkXpY"
      },
      "execution_count": 12,
      "outputs": []
    },
    {
      "cell_type": "code",
      "source": [
        "first_graph = test_ds['0']"
      ],
      "metadata": {
        "id": "HV8o4M1akaFO"
      },
      "execution_count": 13,
      "outputs": []
    },
    {
      "cell_type": "code",
      "source": [
        "print(first_graph)"
      ],
      "metadata": {
        "colab": {
          "base_uri": "https://localhost:8080/"
        },
        "id": "uIOhE-GNkabx",
        "outputId": "27a4f339-b103-412d-d157-9568d3fe4096"
      },
      "execution_count": 14,
      "outputs": [
        {
          "output_type": "stream",
          "name": "stdout",
          "text": [
            "Data(edge_index=[2, 1617376], edge_y=[1617376], x=[143891, 1], y=[143891])\n"
          ]
        }
      ]
    },
    {
      "cell_type": "code",
      "source": [
        "edge_index = first_graph.edge_index"
      ],
      "metadata": {
        "id": "W54empy6kcUC"
      },
      "execution_count": 15,
      "outputs": []
    },
    {
      "cell_type": "code",
      "source": [
        "node_label = first_graph.y"
      ],
      "metadata": {
        "id": "Ni_Jc4Lmwb72"
      },
      "execution_count": 16,
      "outputs": []
    },
    {
      "cell_type": "code",
      "source": [
        "print(edge_index)"
      ],
      "metadata": {
        "colab": {
          "base_uri": "https://localhost:8080/"
        },
        "id": "9A3vhD92mBoh",
        "outputId": "fcdfe8c5-6d48-4c60-9f10-8ac89137454e"
      },
      "execution_count": 17,
      "outputs": [
        {
          "output_type": "stream",
          "name": "stdout",
          "text": [
            "tensor([[     0,      0,      0,  ..., 143888, 143889, 143890],\n",
            "        [     0,      8,   1469,  ..., 143888, 143889, 143890]])\n"
          ]
        }
      ]
    },
    {
      "cell_type": "code",
      "source": [
        "list_fn = list_fn[1:]"
      ],
      "metadata": {
        "id": "kabLmCswGanF"
      },
      "execution_count": 18,
      "outputs": []
    },
    {
      "cell_type": "code",
      "source": [
        "print(list_fn)"
      ],
      "metadata": {
        "colab": {
          "base_uri": "https://localhost:8080/"
        },
        "id": "96_jqFgnG81f",
        "outputId": "5ace2929-443f-43ac-956f-39cac20d329c"
      },
      "execution_count": 19,
      "outputs": [
        {
          "output_type": "stream",
          "name": "stdout",
          "text": [
            "[142562, 142619, 142686, 140950, 141197, 141241, 141487, 2306, 141796, 142294, 261, 141943, 141982, 141996, 142570, 4064, 144198, 144317, 141923, 17375, 47694, 107902, 120998, 142144, 142295, 29266, 141924, 27740, 140632, 56653, 142592, 142635, 142691, 142844, 142926, 142936, 143065, 140967, 141601, 19633, 136448, 136651, 136767, 3788, 17912, 140835, 17302, 144355, 144356, 141914, 142134, 142283, 141246, 141318, 141410, 579, 842, 2044, 5880, 6883, 7878, 12298, 144463, 144476, 144643, 144649, 144761, 145220, 145307, 141954, 141955, 142024, 142075, 142146, 142153, 142272, 144735, 142263, 142281, 142461, 142909, 138308, 138396, 19228, 138634, 145244, 985, 3824, 5245, 8564, 121122, 144441, 144590, 144717, 144889, 144986, 145179, 144900, 144947, 142837, 6286, 140705, 140721, 140806, 140955, 145481, 113476, 140086, 141999, 142049, 142064, 141489, 141570, 141658, 141795, 141982, 145138, 145182, 145359, 48836, 143391, 143435, 143733, 65, 142117, 142167, 142237, 142294, 141900, 135063, 142693, 142775, 142971, 142188, 142205, 142244, 142322, 142400, 142087, 719, 18221, 144806, 142571, 142647, 142872, 143597, 1807, 143673, 143968, 144802, 144917, 143273, 143278, 143421, 143543, 143545, 143562, 143598, 143723, 143959, 21, 448, 2533, 89583, 142962, 143216, 143237, 143252, 143363, 143675, 139206, 139247, 139384, 139481, 139541, 145103, 145110, 382, 597, 680, 786, 918, 1527, 1608, 1753, 2263, 2797, 2838, 2931, 2962, 3026, 3076, 3149, 3164, 3589, 3744, 3883, 3952, 3958, 4049, 4083, 4163, 4192, 4356, 4487, 4635, 4717, 4971, 5150, 5177, 5337, 5598, 5857, 6756, 7505, 7787, 7931, 8006, 8278, 8433, 8505, 8522, 8817, 8999, 9199, 9264, 9320, 9442, 9581, 9806, 9822, 10141, 10205, 10684, 10694, 10716, 10843, 10913, 10955, 11160, 11165, 11327, 11383, 11618, 11948, 12012, 12329, 12373, 12568, 12659, 12723, 12737, 12799, 12841, 12931, 13047, 13209, 13394, 13637, 13693, 13759, 13762, 14355, 14357, 14734, 14906, 14912, 14917, 15054, 15064, 15421, 15685, 16486, 16631, 16703, 16857, 17085, 17502, 17686, 17749, 17750, 17806, 18255, 18482, 19048, 19226, 19311, 19319, 19898, 20004, 20067, 20414, 20433, 20631, 20861, 20862, 20870, 21345, 21412, 21596, 21694, 21869, 22359, 22361, 22833, 22914, 22987, 23287, 23387, 23455, 23782, 24351, 24816, 24866, 24961, 25038, 25375, 25426, 25429, 25477, 25663, 25810, 25865, 26248, 26281, 26350, 26386, 26538, 27917, 27960, 28299, 28382, 28458, 28729, 29171, 29252, 29381, 29419, 29605, 30035, 30264, 30526, 30598, 30782, 30878, 30994, 31051, 31598, 31632, 32507, 32548, 32582, 32707, 32850, 32955, 33017, 33317, 33368, 33455, 33587, 33683, 33684, 33690, 33807, 33979, 34080, 34421, 34472, 35029, 35216, 35313, 35608, 35904, 35913, 35997, 36505, 36565, 36685, 36976, 37129, 37535, 37603, 37656, 37665, 37688, 37782, 37887, 38065, 38328, 38373, 38788, 38909, 38963, 39346, 39414, 39458, 39565, 39756, 39884, 40139, 40616, 40716, 40806, 40965, 41529, 41715, 42043, 42217, 42264, 42518, 42549, 42626, 43476, 43498, 43726, 44449, 44517, 44533, 44898, 45197, 45260, 45675, 45878, 46186, 46386, 46511, 46521, 46630, 46744, 46882, 46982, 47148, 47199, 47504, 47551, 47653, 47660, 47784, 47960, 48005, 48251, 48348, 48759, 48940, 49031, 49035, 49263, 49581, 49701, 49990, 50019, 50417, 51195, 51270, 51454, 51591, 51822, 51905, 52517, 52608, 52741, 52927, 52951, 53030, 53129, 53855, 53875, 54379, 54417, 54709, 54757, 54802, 54931, 55070, 55131, 55184, 55200, 55410, 55546, 55745, 56115, 56149, 56163, 56410, 56444, 56714, 57034, 57406, 57476, 57540, 57567, 58700, 58921, 58967, 59061, 59195, 59284, 59294, 59647, 59777, 60002, 60396, 60426, 60515, 60836, 61053, 61229, 61446, 62156, 62168, 62236, 62645, 62655, 62753, 62846, 62904, 62908, 62960, 62961, 63387, 63627, 63724, 63911, 64060, 64193, 64231, 64506, 64633, 64685, 64863, 64867, 64940, 65081, 65136, 65217, 65235, 65481, 65676, 65794, 66279, 66401, 66418, 66650, 66694, 66811, 66883, 67015, 67032, 67584, 67629, 67824, 68076, 68123, 68188, 68231, 68460, 68690, 68897, 69143, 69319, 69417, 69777, 69924, 69978, 70204, 70205, 70292, 70628, 70807, 70810, 71333, 71494, 71680, 72259, 72305, 72494, 72748, 72935, 72996, 73456, 73507, 73678, 74070, 74141, 74271, 74272, 74300, 74393, 74570, 74711, 74841, 74916, 74919, 75192, 75284, 75285, 75586, 75841, 76359, 76495, 76513, 76535, 76927, 77102, 77323, 77390, 77439, 77508, 77719, 78130, 78205, 78320, 78582, 78644, 78723, 79341, 79509, 79728, 79817, 79888, 79925, 80138, 80216, 80277, 80402, 80575, 80641, 80888, 81528, 81560, 81661, 81796, 82521, 82567, 82698, 82795, 82860, 82979, 83212, 83270, 83278, 83311, 83433, 83804, 83897, 83940, 83974, 84146, 84164, 84179, 84254, 84316, 84464, 84803, 84900, 84920, 85119, 85391, 85457, 85548, 85578, 85638, 85766, 85807, 86204, 86279, 86344, 86601, 86704, 86938, 87238, 87246, 87731, 87880, 87952, 88005, 88450, 88483, 88810, 88826, 88917, 89059, 89305, 89330, 89339, 89359, 89720, 89728, 90183, 90247, 90325, 90484, 90677, 90983, 91076, 91192, 91230, 91391, 91698, 92251, 92274, 92293, 92322, 92437, 92601, 92990, 93141, 93192, 93276, 93498, 93610, 93811, 93838, 93852, 94148, 94490, 94539, 94819, 94883, 94923, 95192, 95217, 95578, 95885, 95954, 96008, 96081, 96130, 96160, 96238, 96620, 96860, 96996, 97008, 97282, 97677, 97697, 97717, 97726, 97790, 98239, 98301, 98523, 98626, 98880, 98905, 99143, 99232, 99397, 99421, 99494, 99570, 99615, 99967, 100048, 100058, 100064, 100165, 100246, 100432, 100778, 100795, 100802, 101300, 101979, 102053, 102070, 102184, 102325, 102343, 102345, 102730, 102752, 103242, 103263, 103759, 103846, 103962, 104077, 104380, 104413, 104722, 104788, 105105, 105135, 105594, 105858, 105953, 105964, 106183, 106547, 106782, 107421, 108182, 108237, 108403, 108530, 108690, 108698, 109004, 109007, 109052, 109383, 109659, 109689, 109805, 109996, 110156, 110342, 110950, 111254, 111355, 111729, 111773, 112128, 112231, 112313, 112539, 112963, 113349, 113526, 113707, 113712, 113843, 114241, 114306, 114336, 114573, 115070, 115074, 115124, 115132, 115332, 115527, 115757, 115935, 115970, 116258, 116353, 116685, 116692, 116969, 117012, 117023, 117335, 117720, 117811, 118155, 118293, 118498, 118592, 118599, 118845, 118949, 119075, 119186, 119429, 119688, 120009, 120268, 120423, 120717, 120870, 120996, 121047, 121629, 121773, 122555, 122652, 122840, 122952, 123246, 123552, 123711, 123789, 123824, 123888, 124027, 124970, 125166, 125335, 125623, 125725, 126229, 126339, 126358, 126604, 126668, 126884, 127116, 127349, 127609, 127710, 127739, 127778, 128162, 128168, 128399, 128445, 128691, 128769, 128827, 128978, 129430, 129658, 129781, 129841, 129873, 130041, 130296, 130823, 130953, 131118, 131311, 131354, 131473, 131728, 131887, 132028, 132119, 132821, 132944, 133143, 133182, 133211, 133246, 133294, 133496, 134131, 134639, 134650, 134786, 135030, 135445, 135565, 135734, 135938, 136097, 136255, 136294, 136305, 136350, 136511, 136515, 136519, 136886, 137050, 137106, 137345, 137799, 137972, 138247, 138364, 138718, 138752, 138831, 138986, 139093, 139189, 139459, 139781, 139843, 139856, 141125, 141153, 141645, 141687, 141704, 141861, 141913, 141996, 142311, 142384, 142462, 142748, 142830, 142850, 142956, 143086, 143127, 143386, 143418, 143436, 143680, 143150, 143217, 143218, 143286, 145360, 141264, 143387, 5452, 25111, 141288, 141868, 145354, 8959, 140459, 140733, 140833, 140975, 141439, 141485, 1570, 3359, 143806, 143847, 143947, 143962, 144383, 144496, 144629, 30802, 57901, 138839, 139058, 145708, 142333, 142338, 142360, 142400, 142451, 142545, 139148, 145678, 145682, 27343, 92934, 1725, 49338, 137588, 137696, 137709, 417, 88785, 145951, 143461, 143600, 143843, 142680, 142773, 1739, 3094, 11040, 59000, 142528, 142742, 142750, 142766, 142809, 142928, 142953, 142968, 143016, 143137, 147431, 147646, 137884, 138246, 110, 321, 146879, 146892, 147023, 147067, 142503, 142553, 142937, 558, 2737, 145440, 145569, 145616, 145740, 141847, 142168, 143045, 141404, 141612, 141669, 1783, 18168, 59302, 95852, 145374, 145403, 3, 5427, 145579, 145662, 16088, 431, 28474, 34010, 102925, 143657, 141486, 140951, 141173, 14607, 142385, 142405, 142509, 142567, 146188, 146409, 30058, 142847, 142861, 139213, 139347, 139386]\n"
          ]
        }
      ]
    },
    {
      "cell_type": "code",
      "source": [
        "cnt = 0\n",
        "for index in list_fn:\n",
        "  print(\"node = \")\n",
        "  print(cnt)\n",
        "  cnt = cnt + 1\n",
        "  list_tmp = []\n",
        "\n",
        "  pos = list(edge_index[0]).index(index)\n",
        "\n",
        "  for i in range(pos, edge_index.shape[1]):\n",
        "    #print(i)\n",
        "    if (edge_index[0][i] != index):\n",
        "      break\n",
        "    list_tmp.append(int(edge_index[1][i]))\n",
        "    # if edge_index[0][i] == index:\n",
        "    #   list_tmp.append(edge_index[1][i])\n",
        "    # elif edge_index[1][i] == index:\n",
        "    #   list_tmp.append(edge_index[0][i])\n",
        "\n",
        "  dict_fn[index] = list_tmp\n",
        "  if cnt == 1:\n",
        "    break"
      ],
      "metadata": {
        "colab": {
          "base_uri": "https://localhost:8080/"
        },
        "id": "qSsJ9wHvkdn6",
        "outputId": "8cad8a68-f87f-4f9a-e41a-14cdb6f247ca"
      },
      "execution_count": 20,
      "outputs": [
        {
          "output_type": "stream",
          "name": "stdout",
          "text": [
            "node = \n",
            "0\n"
          ]
        }
      ]
    },
    {
      "cell_type": "code",
      "source": [
        "print(dict_fn)"
      ],
      "metadata": {
        "colab": {
          "base_uri": "https://localhost:8080/"
        },
        "id": "UbqA5Kcjkfix",
        "outputId": "7aaaeb0e-0e2b-4134-d816-1ba4f3a70846"
      },
      "execution_count": 21,
      "outputs": [
        {
          "output_type": "stream",
          "name": "stdout",
          "text": [
            "{142562: [2, 9, 22, 33, 49, 50, 51, 57, 61, 77, 84, 106, 108, 120, 128, 131, 140, 157, 167, 170, 172, 174, 175, 176, 178, 186, 192, 198, 200, 208, 213, 215, 222, 248, 252, 262, 264, 273, 291, 303, 309, 315, 323, 327, 338, 344, 346, 347, 356, 383, 393, 394, 395, 397, 400, 402, 411, 415, 427, 428, 448, 475, 486, 493, 494, 517, 520, 524, 533, 545, 546, 553, 560, 566, 574, 582, 583, 584, 592, 599, 609, 610, 611, 623, 631, 633, 657, 659, 668, 682, 686, 700, 708, 719, 723, 726, 745, 749, 752, 809, 810, 835, 852, 864, 871, 878, 886, 905, 907, 936, 964, 996, 997, 1001, 1002, 1008, 1009, 1017, 1026, 1029, 1041, 1044, 1056, 1065, 1086, 1092, 1103, 1108, 1113, 1114, 1123, 1124, 1129, 1136, 1147, 1159, 1166, 1236, 1241, 1260, 1269, 1321, 1360, 1375, 1393, 1425, 1443, 1452, 1454, 1463, 1471, 1478, 1529, 1551, 1574, 1575, 1576, 1580, 1615, 1630, 1678, 1694, 1710, 1712, 1735, 1742, 1774, 1783, 1817, 1819, 1832, 1841, 1852, 1853, 1890, 1894, 1900, 1921, 1932, 1938, 1961, 1962, 1975, 1979, 2029, 2055, 2077, 2134, 2136, 2152, 2154, 2156, 2158, 2187, 2217, 2228, 2233, 2234, 2245, 2251, 2263, 2265, 2271, 2277, 2283, 2286, 2288, 2313, 2337, 2352, 2356, 2362, 2373, 2378, 2411, 2430, 2449, 2460, 2462, 2465, 2490, 2496, 2525, 2526, 2535, 2536, 2541, 2544, 2551, 2559, 2561, 2569, 2595, 2627, 2632, 2663, 2674, 2736, 2739, 2768, 2781, 2786, 2792, 2806, 2814, 2824, 2827, 2843, 2868, 2900, 2915, 2959, 2962, 2984, 2999, 3015, 3044, 3046, 3053, 3091, 3096, 3114, 3128, 3140, 3142, 3169, 3191, 3205, 3209, 3259, 3279, 3323, 3400, 3426, 3471, 3473, 3479, 3571, 3581, 3611, 3622, 3636, 3639, 3647, 3678, 3685, 3727, 3734, 3749, 3783, 3841, 3869, 3870, 3876, 3884, 3949, 3950, 3958, 3967, 3971, 4026, 4043, 4110, 4113, 4144, 4179, 4248, 4249, 4255, 4258, 4308, 4313, 4332, 4373, 4374, 4380, 4393, 4438, 4452, 4482, 4491, 4500, 4526, 4596, 4615, 4622, 4624, 4633, 4635, 4645, 4662, 4700, 4737, 4758, 4759, 4761, 4784, 4849, 4856, 4880, 4977, 4994, 5014, 5019, 5046, 5049, 5062, 5078, 5099, 5140, 5211, 5214, 5238, 5239, 5252, 5293, 5300, 5309, 5371, 5390, 5438, 5475, 5502, 5509, 5551, 5567, 5572, 5578, 5599, 5619, 5633, 5644, 5677, 5689, 5694, 5699, 5758, 5788, 5795, 5859, 5860, 5868, 5952, 5959, 5979, 6038, 6048, 6132, 6165, 6174, 6208, 6250, 6252, 6285, 6307, 6431, 6437, 6524, 6537, 6560, 6594, 6607, 6623, 6657, 6680, 6684, 6703, 6737, 6778, 6805, 6812, 6823, 6846, 6866, 6869, 6871, 6933, 6959, 6968, 6985, 7003, 7034, 7042, 7091, 7172, 7206, 7244, 7273, 7356, 7405, 7579, 7616, 7637, 7714, 7739, 7751, 7927, 7951, 8070, 8108, 8141, 8185, 8202, 8226, 8267, 8268, 8282, 8318, 8363, 8580, 8679, 8701, 8747, 8812, 8828, 8856, 8864, 9039, 9062, 9091, 9196, 9272, 9295, 9383, 9402, 9408, 9428, 9536, 9553, 9568, 9637, 9672, 9683, 9719, 9726, 9762, 9805, 9846, 10140, 10264, 10267, 10308, 10314, 10363, 10561, 10620, 10654, 10751, 10797, 10853, 10864, 10882, 11008, 11014, 11030, 11076, 11089, 11144, 11196, 11221, 11292, 11356, 11482, 11506, 11540, 11573, 11590, 11612, 11675, 11678, 11699, 11709, 11787, 11795, 11805, 11843, 11860, 11889, 11949, 12069, 12141, 12193, 12200, 12217, 12226, 12238, 12270, 12374, 12410, 12415, 12420, 12462, 12470, 12494, 12523, 12564, 12612, 12734, 12743, 12851, 12854, 12945, 12947, 12962, 12976, 13041, 13135, 13144, 13175, 13185, 13205, 13223, 13256, 13322, 13439, 13572, 13608, 13634, 13682, 13684, 13712, 13724, 13793, 13812, 13840, 14042, 14051, 14066, 14125, 14209, 14410, 14432, 14562, 14572, 14600, 14701, 14708, 14983, 15016, 15025, 15054, 15101, 15205, 15308, 15382, 15395, 15416, 15530, 15532, 15562, 15735, 15795, 15837, 15864, 15909, 16050, 16057, 16092, 16124, 16242, 16264, 16355, 16403, 16452, 16546, 16696, 16833, 16861, 16893, 16895, 16896, 16928, 17054, 17068, 17119, 17231, 17288, 17344, 17388, 17417, 17439, 17490, 17733, 18124, 18144, 18182, 18210, 18223, 18230, 18251, 18424, 18543, 18610, 18668, 18717, 18768, 18810, 18829, 18937, 18962, 18977, 19002, 19196, 19277, 19510, 19638, 19729, 19766, 19865, 19935, 20032, 20058, 20137, 20177, 20181, 20261, 20265, 20371, 20481, 20492, 20550, 20561, 20641, 20793, 20869, 20906, 21071, 21168, 21207, 21278, 21341, 21394, 21498, 21589, 21695, 21770, 21812, 21831, 21870, 21880, 21928, 21978, 22056, 22119, 22131, 22153, 22161, 22173, 22297, 22327, 22393, 22471, 22524, 22559, 22564, 22582, 22704, 22710, 22806, 22826, 22830, 22853, 22894, 22953, 23141, 23143, 23545, 23601, 23633, 23800, 23852, 23943, 24013, 24091, 24093, 24202, 24246, 24294, 24419, 24430, 24734, 24746, 24749, 24769, 24858, 24868, 25185, 25224, 25354, 25382, 25467, 25586, 25621, 25646, 25684, 25687, 25839, 25864, 25911, 25934, 26109, 26111, 26259, 26530, 26544, 26597, 26697, 26748, 26898, 27039, 27077, 27079, 27143, 27215, 27275, 27365, 27480, 27781, 27850, 28036, 28050, 28176, 28231, 28245, 28298, 28326, 28447, 28530, 28612, 28778, 28979, 29024, 29083, 29086, 29112, 29159, 29263, 29544, 29683, 29715, 29854, 29917, 29945, 29946, 29967, 29968, 30109, 30214, 30218, 30309, 30583, 30903, 31077, 31147, 31293, 31338, 31442, 31478, 31496, 31501, 31608, 31681, 31715, 31942, 32014, 32045, 32105, 32355, 32435, 32481, 32531, 32623, 32656, 32852, 32862, 33078, 33134, 33143, 33184, 33188, 33253, 33301, 33427, 33478, 33522, 33863, 33972, 34303, 34369, 34371, 34385, 34422, 34722, 34740, 34855, 34995, 35002, 35042, 35157, 35191, 35230, 35233, 35259, 35331, 35353, 35397, 35537, 35644, 35734, 35835, 35881, 35891, 35940, 36074, 36346, 36396, 36478, 36540, 36541, 36614, 36629, 36644, 36685, 36898, 37112, 37148, 37258, 37289, 37363, 37492, 37548, 37569, 37624, 37720, 37834, 37920, 37979, 38025, 38091, 38355, 38394, 38568, 38589, 38610, 38634, 38882, 39083, 39330, 39338, 39443, 39458, 39589, 39666, 39853, 39861, 39947, 40103, 40176, 40269, 40390, 40501, 40530, 40707, 40784, 40903, 40916, 41031, 41062, 41199, 41240, 41333, 41360, 41444, 41482, 41494, 41703, 41739, 41795, 41884, 42048, 42084, 42131, 42360, 42502, 42777, 42851, 42924, 42957, 43153, 43168, 43378, 43480, 43481, 43612, 43776, 43784, 43811, 43848, 44027, 44038, 44108, 44392, 44454, 44638, 44730, 44734, 44771, 44901, 45086, 45410, 45440, 45523, 45721, 45942, 45943, 45984, 46056, 46084, 46101, 46328, 46332, 46339, 46397, 46462, 46598, 46988, 47068, 47074, 47157, 47233, 47260, 47274, 47301, 47460, 47948, 48161, 48289, 48388, 48481, 48532, 48630, 48678, 48756, 48792, 49010, 49019, 49103, 49283, 49333, 49519, 49733, 49738, 49788, 49851, 49926, 49928, 50106, 50169, 50260, 50285, 50371, 50611, 50684, 50729, 50845, 50960, 51105, 51306, 51394, 51456, 51485, 51527, 51581, 51705, 51729, 51903, 51934, 52248, 52348, 52372, 52437, 52535, 52731, 52850, 53083, 53172, 53231, 53471, 53602, 53733, 53830, 53918, 53954, 53980, 54060, 54263, 54280, 54294, 54473, 54493, 54533, 54856, 54992, 55024, 55188, 55226, 55428, 55579, 55978, 56113, 56515, 56519, 56540, 56567, 56596, 56937, 56947, 56952, 57054, 57172, 57239, 57306, 57316, 57353, 57491, 57625, 57682, 57700, 57752, 57773, 57890, 57917, 57943, 57978, 58001, 58420, 58432, 58559, 58682, 58845, 58878, 58916, 59039, 59069, 59517, 59630, 59955, 60078, 60105, 60184, 60209, 60415, 60657, 60825, 60844, 60866, 60990, 61019, 61113, 61203, 61396, 61541, 61543, 61668, 61685, 61843, 62061, 62092, 62160, 62201, 62220, 62344, 62583, 62629, 62674, 62675, 62688, 62905, 62919, 62977, 63237, 63254, 63464, 63563, 63696, 63814, 63847, 63900, 63972, 63986, 64031, 64150, 64239, 64322, 64324, 64407, 64408, 64480, 64562, 64596, 64766, 64872, 64889, 65163, 65317, 65383, 65577, 65590, 65609, 65651, 65913, 66330, 66359, 66394, 66641, 66643, 66669, 66683, 66734, 66786, 67182, 67308, 67359, 67574, 67651, 67905, 67998, 68063, 68172, 68414, 68516, 68552, 68564, 68762, 68829, 68845, 68847, 68890, 68925, 69098, 69151, 69300, 69342, 69373, 69458, 69523, 69601, 69624, 69664, 69705, 69955, 70025, 70096, 70132, 70428, 70438, 70539, 70818, 70896, 71029, 71266, 71279, 71281, 71310, 71402, 71817, 71895, 71956, 71996, 72006, 72014, 72080, 72256, 72306, 72346, 72517, 72645, 72836, 72839, 72865, 72951, 73118, 73138, 73158, 73196, 73270, 73297, 73359, 73444, 73560, 73575, 73861, 73964, 74033, 74047, 74075, 74120, 74126, 74315, 74459, 74532, 74650, 74778, 74887, 74910, 74913, 75071, 75090, 75147, 75156, 75234, 75441, 75518, 75634, 75703, 76094, 76157, 76210, 76236, 76306, 76479, 76586, 76656, 76746, 76750, 76798, 76846, 77007, 77018, 77101, 77218, 77283, 77337, 77359, 77537, 77769, 77784, 77897, 77908, 78080, 78223, 78341, 78390, 78487, 78500, 78600, 78750, 78866, 78965, 79104, 79285, 79529, 79634, 79794, 79799, 80063, 80286, 80364, 80394, 80406, 80421, 80694, 80752, 80764, 80851, 80857, 80866, 80967, 81122, 81218, 81327, 81453, 81467, 81490, 81549, 81808, 81840, 82064, 82125, 82130, 82131, 82302, 82606, 82623, 82639, 83011, 83320, 83490, 83493, 83513, 83734, 83913, 83942, 84018, 84193, 84314, 84570, 84654, 84832, 85022, 85745, 85798, 86017, 86089, 86297, 86433, 86676, 86710, 86729, 86734, 86871, 87019, 87044, 87057, 87164, 87201, 87581, 87677, 87702, 87758, 87827, 88012, 88115, 88182, 88203, 88222, 88347, 88352, 88362, 88990, 89011, 89052, 89115, 89166, 89180, 89573, 89941, 90055, 90088, 90108, 90183, 90219, 90250, 90285, 90431, 90443, 90537, 90562, 90715, 90757, 90814, 90817, 90838, 90934, 91116, 91197, 91202, 91272, 91283, 91285, 91366, 91475, 91518, 91852, 91916, 91998, 92019, 92049, 92097, 92133, 92163, 92213, 92235, 92594, 92599, 92650, 92663, 92994, 93006, 93045, 93048, 93152, 93298, 93395, 93469, 93602, 93643, 93951, 93954, 94182, 94191, 94287, 94420, 94514, 94530, 94634, 94675, 94717, 94787, 94911, 95016, 95073, 95117, 95231, 95254, 95666, 95826, 96099, 96613, 97018, 97378, 97431, 97535, 97631, 97750, 97757, 97812, 97843, 98119, 98265, 98282, 98671, 98724, 98753, 98904, 99088, 99693, 99809, 99821, 99847, 100035, 100063, 100297, 100463, 100473, 100562, 100605, 101053, 101083, 101168, 101386, 101452, 101742, 101767, 102285, 102492, 102550, 102597, 102618, 102979, 103093, 103321, 103324, 103657, 103746, 103797, 103818, 103853, 103980, 103987, 104077, 104088, 104380, 104449, 104641, 104792, 104863, 105073, 105079, 105131, 105445, 105841, 106102, 106315, 106475, 106527, 106660, 106852, 106877, 107063, 107218, 107264, 107599, 107607, 107948, 108016, 108022, 108161, 108477, 108926, 108965, 109316, 109321, 109374, 109384, 109661, 109700, 109710, 110073, 110123, 110491, 110644, 110877, 110989, 111351, 112333, 112399, 112443, 112484, 112650, 112662, 112786, 112832, 113092, 113407, 113434, 113583, 113768, 113925, 114358, 114389, 114416, 114651, 114670, 114722, 114742, 114766, 114967, 115075, 115314, 115356, 115563, 115600, 115661, 115956, 115975, 116147, 116508, 116614, 116631, 116688, 116690, 116776, 116811, 116982, 117055, 117178, 117787, 118327, 118981, 119187, 119330, 119436, 119571, 119572, 119683, 120280, 120391, 120591, 120680, 120861, 120898, 120902, 120927, 121083, 121216, 121224, 121478, 121490, 121515, 121749, 121914, 122120, 122256, 122558, 122846, 122979, 123109, 123250, 123293, 123324, 123326, 123334, 123573, 123613, 123748, 123796, 124074, 124148, 124366, 124498, 124525, 124682, 124696, 124897, 125223, 125373, 125376, 125475, 125495, 125529, 125585, 125678, 125686, 125695, 125877, 126099, 126194, 126367, 126411, 126618, 126986, 127118, 127312, 127339, 127545, 127600, 127747, 128060, 128096, 128323, 128343, 128360, 128700, 128709, 128756, 128818, 128822, 129019, 129120, 129140, 129431, 129687, 129719, 129723, 129843, 129970, 130217, 130518, 130626, 130662, 130780, 130850, 130880, 130906, 130923, 130953, 131072, 131357, 131854, 132173, 132491, 132991, 133060, 133445, 133927, 133973, 134025, 134103, 134324, 134558, 134844, 135556, 135665, 135774, 136581, 136746, 136938, 137063, 137283, 138265, 138321, 138776, 139044, 139075, 139278, 139419, 139424, 139441, 139653, 139713, 139757, 139843, 139898, 139936, 140192, 140336, 140607, 140614, 141491, 142029, 142336, 142438, 142562]}\n"
          ]
        }
      ]
    },
    {
      "cell_type": "code",
      "source": [
        "import networkx as nx\n",
        "import matplotlib.pyplot as plt"
      ],
      "metadata": {
        "id": "UYfN-AbtsYYB"
      },
      "execution_count": 22,
      "outputs": []
    },
    {
      "cell_type": "code",
      "source": [
        "list_adj = dict_fn.get(142562)"
      ],
      "metadata": {
        "id": "t0F0uITUuhEd"
      },
      "execution_count": 23,
      "outputs": []
    },
    {
      "cell_type": "code",
      "source": [
        "print(list_adj)"
      ],
      "metadata": {
        "colab": {
          "base_uri": "https://localhost:8080/"
        },
        "id": "BcoUeLZPzKUp",
        "outputId": "023f404f-e9ca-497f-f943-9e9527637be7"
      },
      "execution_count": 24,
      "outputs": [
        {
          "output_type": "stream",
          "name": "stdout",
          "text": [
            "[2, 9, 22, 33, 49, 50, 51, 57, 61, 77, 84, 106, 108, 120, 128, 131, 140, 157, 167, 170, 172, 174, 175, 176, 178, 186, 192, 198, 200, 208, 213, 215, 222, 248, 252, 262, 264, 273, 291, 303, 309, 315, 323, 327, 338, 344, 346, 347, 356, 383, 393, 394, 395, 397, 400, 402, 411, 415, 427, 428, 448, 475, 486, 493, 494, 517, 520, 524, 533, 545, 546, 553, 560, 566, 574, 582, 583, 584, 592, 599, 609, 610, 611, 623, 631, 633, 657, 659, 668, 682, 686, 700, 708, 719, 723, 726, 745, 749, 752, 809, 810, 835, 852, 864, 871, 878, 886, 905, 907, 936, 964, 996, 997, 1001, 1002, 1008, 1009, 1017, 1026, 1029, 1041, 1044, 1056, 1065, 1086, 1092, 1103, 1108, 1113, 1114, 1123, 1124, 1129, 1136, 1147, 1159, 1166, 1236, 1241, 1260, 1269, 1321, 1360, 1375, 1393, 1425, 1443, 1452, 1454, 1463, 1471, 1478, 1529, 1551, 1574, 1575, 1576, 1580, 1615, 1630, 1678, 1694, 1710, 1712, 1735, 1742, 1774, 1783, 1817, 1819, 1832, 1841, 1852, 1853, 1890, 1894, 1900, 1921, 1932, 1938, 1961, 1962, 1975, 1979, 2029, 2055, 2077, 2134, 2136, 2152, 2154, 2156, 2158, 2187, 2217, 2228, 2233, 2234, 2245, 2251, 2263, 2265, 2271, 2277, 2283, 2286, 2288, 2313, 2337, 2352, 2356, 2362, 2373, 2378, 2411, 2430, 2449, 2460, 2462, 2465, 2490, 2496, 2525, 2526, 2535, 2536, 2541, 2544, 2551, 2559, 2561, 2569, 2595, 2627, 2632, 2663, 2674, 2736, 2739, 2768, 2781, 2786, 2792, 2806, 2814, 2824, 2827, 2843, 2868, 2900, 2915, 2959, 2962, 2984, 2999, 3015, 3044, 3046, 3053, 3091, 3096, 3114, 3128, 3140, 3142, 3169, 3191, 3205, 3209, 3259, 3279, 3323, 3400, 3426, 3471, 3473, 3479, 3571, 3581, 3611, 3622, 3636, 3639, 3647, 3678, 3685, 3727, 3734, 3749, 3783, 3841, 3869, 3870, 3876, 3884, 3949, 3950, 3958, 3967, 3971, 4026, 4043, 4110, 4113, 4144, 4179, 4248, 4249, 4255, 4258, 4308, 4313, 4332, 4373, 4374, 4380, 4393, 4438, 4452, 4482, 4491, 4500, 4526, 4596, 4615, 4622, 4624, 4633, 4635, 4645, 4662, 4700, 4737, 4758, 4759, 4761, 4784, 4849, 4856, 4880, 4977, 4994, 5014, 5019, 5046, 5049, 5062, 5078, 5099, 5140, 5211, 5214, 5238, 5239, 5252, 5293, 5300, 5309, 5371, 5390, 5438, 5475, 5502, 5509, 5551, 5567, 5572, 5578, 5599, 5619, 5633, 5644, 5677, 5689, 5694, 5699, 5758, 5788, 5795, 5859, 5860, 5868, 5952, 5959, 5979, 6038, 6048, 6132, 6165, 6174, 6208, 6250, 6252, 6285, 6307, 6431, 6437, 6524, 6537, 6560, 6594, 6607, 6623, 6657, 6680, 6684, 6703, 6737, 6778, 6805, 6812, 6823, 6846, 6866, 6869, 6871, 6933, 6959, 6968, 6985, 7003, 7034, 7042, 7091, 7172, 7206, 7244, 7273, 7356, 7405, 7579, 7616, 7637, 7714, 7739, 7751, 7927, 7951, 8070, 8108, 8141, 8185, 8202, 8226, 8267, 8268, 8282, 8318, 8363, 8580, 8679, 8701, 8747, 8812, 8828, 8856, 8864, 9039, 9062, 9091, 9196, 9272, 9295, 9383, 9402, 9408, 9428, 9536, 9553, 9568, 9637, 9672, 9683, 9719, 9726, 9762, 9805, 9846, 10140, 10264, 10267, 10308, 10314, 10363, 10561, 10620, 10654, 10751, 10797, 10853, 10864, 10882, 11008, 11014, 11030, 11076, 11089, 11144, 11196, 11221, 11292, 11356, 11482, 11506, 11540, 11573, 11590, 11612, 11675, 11678, 11699, 11709, 11787, 11795, 11805, 11843, 11860, 11889, 11949, 12069, 12141, 12193, 12200, 12217, 12226, 12238, 12270, 12374, 12410, 12415, 12420, 12462, 12470, 12494, 12523, 12564, 12612, 12734, 12743, 12851, 12854, 12945, 12947, 12962, 12976, 13041, 13135, 13144, 13175, 13185, 13205, 13223, 13256, 13322, 13439, 13572, 13608, 13634, 13682, 13684, 13712, 13724, 13793, 13812, 13840, 14042, 14051, 14066, 14125, 14209, 14410, 14432, 14562, 14572, 14600, 14701, 14708, 14983, 15016, 15025, 15054, 15101, 15205, 15308, 15382, 15395, 15416, 15530, 15532, 15562, 15735, 15795, 15837, 15864, 15909, 16050, 16057, 16092, 16124, 16242, 16264, 16355, 16403, 16452, 16546, 16696, 16833, 16861, 16893, 16895, 16896, 16928, 17054, 17068, 17119, 17231, 17288, 17344, 17388, 17417, 17439, 17490, 17733, 18124, 18144, 18182, 18210, 18223, 18230, 18251, 18424, 18543, 18610, 18668, 18717, 18768, 18810, 18829, 18937, 18962, 18977, 19002, 19196, 19277, 19510, 19638, 19729, 19766, 19865, 19935, 20032, 20058, 20137, 20177, 20181, 20261, 20265, 20371, 20481, 20492, 20550, 20561, 20641, 20793, 20869, 20906, 21071, 21168, 21207, 21278, 21341, 21394, 21498, 21589, 21695, 21770, 21812, 21831, 21870, 21880, 21928, 21978, 22056, 22119, 22131, 22153, 22161, 22173, 22297, 22327, 22393, 22471, 22524, 22559, 22564, 22582, 22704, 22710, 22806, 22826, 22830, 22853, 22894, 22953, 23141, 23143, 23545, 23601, 23633, 23800, 23852, 23943, 24013, 24091, 24093, 24202, 24246, 24294, 24419, 24430, 24734, 24746, 24749, 24769, 24858, 24868, 25185, 25224, 25354, 25382, 25467, 25586, 25621, 25646, 25684, 25687, 25839, 25864, 25911, 25934, 26109, 26111, 26259, 26530, 26544, 26597, 26697, 26748, 26898, 27039, 27077, 27079, 27143, 27215, 27275, 27365, 27480, 27781, 27850, 28036, 28050, 28176, 28231, 28245, 28298, 28326, 28447, 28530, 28612, 28778, 28979, 29024, 29083, 29086, 29112, 29159, 29263, 29544, 29683, 29715, 29854, 29917, 29945, 29946, 29967, 29968, 30109, 30214, 30218, 30309, 30583, 30903, 31077, 31147, 31293, 31338, 31442, 31478, 31496, 31501, 31608, 31681, 31715, 31942, 32014, 32045, 32105, 32355, 32435, 32481, 32531, 32623, 32656, 32852, 32862, 33078, 33134, 33143, 33184, 33188, 33253, 33301, 33427, 33478, 33522, 33863, 33972, 34303, 34369, 34371, 34385, 34422, 34722, 34740, 34855, 34995, 35002, 35042, 35157, 35191, 35230, 35233, 35259, 35331, 35353, 35397, 35537, 35644, 35734, 35835, 35881, 35891, 35940, 36074, 36346, 36396, 36478, 36540, 36541, 36614, 36629, 36644, 36685, 36898, 37112, 37148, 37258, 37289, 37363, 37492, 37548, 37569, 37624, 37720, 37834, 37920, 37979, 38025, 38091, 38355, 38394, 38568, 38589, 38610, 38634, 38882, 39083, 39330, 39338, 39443, 39458, 39589, 39666, 39853, 39861, 39947, 40103, 40176, 40269, 40390, 40501, 40530, 40707, 40784, 40903, 40916, 41031, 41062, 41199, 41240, 41333, 41360, 41444, 41482, 41494, 41703, 41739, 41795, 41884, 42048, 42084, 42131, 42360, 42502, 42777, 42851, 42924, 42957, 43153, 43168, 43378, 43480, 43481, 43612, 43776, 43784, 43811, 43848, 44027, 44038, 44108, 44392, 44454, 44638, 44730, 44734, 44771, 44901, 45086, 45410, 45440, 45523, 45721, 45942, 45943, 45984, 46056, 46084, 46101, 46328, 46332, 46339, 46397, 46462, 46598, 46988, 47068, 47074, 47157, 47233, 47260, 47274, 47301, 47460, 47948, 48161, 48289, 48388, 48481, 48532, 48630, 48678, 48756, 48792, 49010, 49019, 49103, 49283, 49333, 49519, 49733, 49738, 49788, 49851, 49926, 49928, 50106, 50169, 50260, 50285, 50371, 50611, 50684, 50729, 50845, 50960, 51105, 51306, 51394, 51456, 51485, 51527, 51581, 51705, 51729, 51903, 51934, 52248, 52348, 52372, 52437, 52535, 52731, 52850, 53083, 53172, 53231, 53471, 53602, 53733, 53830, 53918, 53954, 53980, 54060, 54263, 54280, 54294, 54473, 54493, 54533, 54856, 54992, 55024, 55188, 55226, 55428, 55579, 55978, 56113, 56515, 56519, 56540, 56567, 56596, 56937, 56947, 56952, 57054, 57172, 57239, 57306, 57316, 57353, 57491, 57625, 57682, 57700, 57752, 57773, 57890, 57917, 57943, 57978, 58001, 58420, 58432, 58559, 58682, 58845, 58878, 58916, 59039, 59069, 59517, 59630, 59955, 60078, 60105, 60184, 60209, 60415, 60657, 60825, 60844, 60866, 60990, 61019, 61113, 61203, 61396, 61541, 61543, 61668, 61685, 61843, 62061, 62092, 62160, 62201, 62220, 62344, 62583, 62629, 62674, 62675, 62688, 62905, 62919, 62977, 63237, 63254, 63464, 63563, 63696, 63814, 63847, 63900, 63972, 63986, 64031, 64150, 64239, 64322, 64324, 64407, 64408, 64480, 64562, 64596, 64766, 64872, 64889, 65163, 65317, 65383, 65577, 65590, 65609, 65651, 65913, 66330, 66359, 66394, 66641, 66643, 66669, 66683, 66734, 66786, 67182, 67308, 67359, 67574, 67651, 67905, 67998, 68063, 68172, 68414, 68516, 68552, 68564, 68762, 68829, 68845, 68847, 68890, 68925, 69098, 69151, 69300, 69342, 69373, 69458, 69523, 69601, 69624, 69664, 69705, 69955, 70025, 70096, 70132, 70428, 70438, 70539, 70818, 70896, 71029, 71266, 71279, 71281, 71310, 71402, 71817, 71895, 71956, 71996, 72006, 72014, 72080, 72256, 72306, 72346, 72517, 72645, 72836, 72839, 72865, 72951, 73118, 73138, 73158, 73196, 73270, 73297, 73359, 73444, 73560, 73575, 73861, 73964, 74033, 74047, 74075, 74120, 74126, 74315, 74459, 74532, 74650, 74778, 74887, 74910, 74913, 75071, 75090, 75147, 75156, 75234, 75441, 75518, 75634, 75703, 76094, 76157, 76210, 76236, 76306, 76479, 76586, 76656, 76746, 76750, 76798, 76846, 77007, 77018, 77101, 77218, 77283, 77337, 77359, 77537, 77769, 77784, 77897, 77908, 78080, 78223, 78341, 78390, 78487, 78500, 78600, 78750, 78866, 78965, 79104, 79285, 79529, 79634, 79794, 79799, 80063, 80286, 80364, 80394, 80406, 80421, 80694, 80752, 80764, 80851, 80857, 80866, 80967, 81122, 81218, 81327, 81453, 81467, 81490, 81549, 81808, 81840, 82064, 82125, 82130, 82131, 82302, 82606, 82623, 82639, 83011, 83320, 83490, 83493, 83513, 83734, 83913, 83942, 84018, 84193, 84314, 84570, 84654, 84832, 85022, 85745, 85798, 86017, 86089, 86297, 86433, 86676, 86710, 86729, 86734, 86871, 87019, 87044, 87057, 87164, 87201, 87581, 87677, 87702, 87758, 87827, 88012, 88115, 88182, 88203, 88222, 88347, 88352, 88362, 88990, 89011, 89052, 89115, 89166, 89180, 89573, 89941, 90055, 90088, 90108, 90183, 90219, 90250, 90285, 90431, 90443, 90537, 90562, 90715, 90757, 90814, 90817, 90838, 90934, 91116, 91197, 91202, 91272, 91283, 91285, 91366, 91475, 91518, 91852, 91916, 91998, 92019, 92049, 92097, 92133, 92163, 92213, 92235, 92594, 92599, 92650, 92663, 92994, 93006, 93045, 93048, 93152, 93298, 93395, 93469, 93602, 93643, 93951, 93954, 94182, 94191, 94287, 94420, 94514, 94530, 94634, 94675, 94717, 94787, 94911, 95016, 95073, 95117, 95231, 95254, 95666, 95826, 96099, 96613, 97018, 97378, 97431, 97535, 97631, 97750, 97757, 97812, 97843, 98119, 98265, 98282, 98671, 98724, 98753, 98904, 99088, 99693, 99809, 99821, 99847, 100035, 100063, 100297, 100463, 100473, 100562, 100605, 101053, 101083, 101168, 101386, 101452, 101742, 101767, 102285, 102492, 102550, 102597, 102618, 102979, 103093, 103321, 103324, 103657, 103746, 103797, 103818, 103853, 103980, 103987, 104077, 104088, 104380, 104449, 104641, 104792, 104863, 105073, 105079, 105131, 105445, 105841, 106102, 106315, 106475, 106527, 106660, 106852, 106877, 107063, 107218, 107264, 107599, 107607, 107948, 108016, 108022, 108161, 108477, 108926, 108965, 109316, 109321, 109374, 109384, 109661, 109700, 109710, 110073, 110123, 110491, 110644, 110877, 110989, 111351, 112333, 112399, 112443, 112484, 112650, 112662, 112786, 112832, 113092, 113407, 113434, 113583, 113768, 113925, 114358, 114389, 114416, 114651, 114670, 114722, 114742, 114766, 114967, 115075, 115314, 115356, 115563, 115600, 115661, 115956, 115975, 116147, 116508, 116614, 116631, 116688, 116690, 116776, 116811, 116982, 117055, 117178, 117787, 118327, 118981, 119187, 119330, 119436, 119571, 119572, 119683, 120280, 120391, 120591, 120680, 120861, 120898, 120902, 120927, 121083, 121216, 121224, 121478, 121490, 121515, 121749, 121914, 122120, 122256, 122558, 122846, 122979, 123109, 123250, 123293, 123324, 123326, 123334, 123573, 123613, 123748, 123796, 124074, 124148, 124366, 124498, 124525, 124682, 124696, 124897, 125223, 125373, 125376, 125475, 125495, 125529, 125585, 125678, 125686, 125695, 125877, 126099, 126194, 126367, 126411, 126618, 126986, 127118, 127312, 127339, 127545, 127600, 127747, 128060, 128096, 128323, 128343, 128360, 128700, 128709, 128756, 128818, 128822, 129019, 129120, 129140, 129431, 129687, 129719, 129723, 129843, 129970, 130217, 130518, 130626, 130662, 130780, 130850, 130880, 130906, 130923, 130953, 131072, 131357, 131854, 132173, 132491, 132991, 133060, 133445, 133927, 133973, 134025, 134103, 134324, 134558, 134844, 135556, 135665, 135774, 136581, 136746, 136938, 137063, 137283, 138265, 138321, 138776, 139044, 139075, 139278, 139419, 139424, 139441, 139653, 139713, 139757, 139843, 139898, 139936, 140192, 140336, 140607, 140614, 141491, 142029, 142336, 142438, 142562]\n"
          ]
        }
      ]
    },
    {
      "cell_type": "code",
      "source": [
        "print(len(list_adj))"
      ],
      "metadata": {
        "colab": {
          "base_uri": "https://localhost:8080/"
        },
        "id": "Py1Y4CkbvNtq",
        "outputId": "8cab7056-da78-48bd-e6ed-277a25db79f3"
      },
      "execution_count": 25,
      "outputs": [
        {
          "output_type": "stream",
          "name": "stdout",
          "text": [
            "1734\n"
          ]
        }
      ]
    },
    {
      "cell_type": "code",
      "source": [
        "g = nx.DiGraph()"
      ],
      "metadata": {
        "id": "DNfdJcJrsVqr"
      },
      "execution_count": 26,
      "outputs": []
    },
    {
      "cell_type": "code",
      "source": [
        "list_adj = list_adj[:1734]"
      ],
      "metadata": {
        "id": "E6bbAJsb69rl"
      },
      "execution_count": 36,
      "outputs": []
    },
    {
      "cell_type": "code",
      "source": [
        "color = [\"red\"]"
      ],
      "metadata": {
        "id": "rjEH34TtwLcQ"
      },
      "execution_count": 37,
      "outputs": []
    },
    {
      "cell_type": "code",
      "source": [
        "# for i in range(node_label.shape[0]):\n",
        "#   if node_label[i] == 0:\n",
        "#     print(\"----------\")\n",
        "#     print(node_label[i])\n",
        "#     print(i)\n"
      ],
      "metadata": {
        "id": "iKb10KWj1vaF"
      },
      "execution_count": 29,
      "outputs": []
    },
    {
      "cell_type": "code",
      "source": [
        "for i in list_adj:\n",
        "  g.add_edge(142562, i)\n",
        "  if int(node_label[i]) == 1:\n",
        "    color.append(\"red\")\n",
        "  else:\n",
        "    color.append(\"blue\")"
      ],
      "metadata": {
        "id": "glXYeFLZvCFu"
      },
      "execution_count": 38,
      "outputs": []
    },
    {
      "cell_type": "code",
      "source": [
        "nx.draw_networkx(g, node_color = color, with_labels=False, arrows=False, node_size=10)"
      ],
      "metadata": {
        "colab": {
          "base_uri": "https://localhost:8080/",
          "height": 248
        },
        "id": "BIP3U0m8sdtL",
        "outputId": "18173739-bb0b-4927-b65f-d218256adbe6"
      },
      "execution_count": 43,
      "outputs": [
        {
          "output_type": "display_data",
          "data": {
            "text/plain": [
              "<Figure size 432x288 with 1 Axes>"
            ],
            "image/png": "[encoded data removed]"
          },
          "metadata": {}
        }
      ]
    }
  ]
}